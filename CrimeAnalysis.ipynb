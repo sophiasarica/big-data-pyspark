{
  "cells": [
    {
      "cell_type": "markdown",
      "source": [
        "1. Spark Setup\n"
      ],
      "metadata": {
        "id": "s7QJpSLO14-G"
      }
    },
    {
      "cell_type": "code",
      "execution_count": null,
      "metadata": {
        "colab": {
          "base_uri": "https://localhost:8080/"
        },
        "id": "HKL3dydmktMX",
        "outputId": "627ad8aa-3e0d-4bad-f29d-d85ae894c2f1"
      },
      "outputs": [
        {
          "output_type": "stream",
          "name": "stdout",
          "text": [
            "Looking in indexes: https://pypi.org/simple, https://us-python.pkg.dev/colab-wheels/public/simple/\n",
            "Collecting pyspark\n",
            "  Downloading pyspark-3.3.0.tar.gz (281.3 MB)\n",
            "\u001b[K     |████████████████████████████████| 281.3 MB 51 kB/s \n",
            "\u001b[?25hCollecting py4j\n",
            "  Downloading py4j-0.10.9.7-py2.py3-none-any.whl (200 kB)\n",
            "\u001b[K     |████████████████████████████████| 200 kB 57.5 MB/s \n",
            "\u001b[?25h  Downloading py4j-0.10.9.5-py2.py3-none-any.whl (199 kB)\n",
            "\u001b[K     |████████████████████████████████| 199 kB 71.9 MB/s \n",
            "\u001b[?25hBuilding wheels for collected packages: pyspark\n",
            "  Building wheel for pyspark (setup.py) ... \u001b[?25l\u001b[?25hdone\n",
            "  Created wheel for pyspark: filename=pyspark-3.3.0-py2.py3-none-any.whl size=281764026 sha256=4e64e36a0736e8983f2e974552eee2ed53ffd0dfc713037aef742d1f39daac00\n",
            "  Stored in directory: /root/.cache/pip/wheels/7a/8e/1b/f73a52650d2e5f337708d9f6a1750d451a7349a867f928b885\n",
            "Successfully built pyspark\n",
            "Installing collected packages: py4j, pyspark\n",
            "Successfully installed py4j-0.10.9.5 pyspark-3.3.0\n"
          ]
        }
      ],
      "source": [
        "!pip install pyspark py4j"
      ]
    },
    {
      "cell_type": "code",
      "execution_count": null,
      "metadata": {
        "id": "fuIt2IYPkvBi"
      },
      "outputs": [],
      "source": [
        "from pyspark.sql import SparkSession\n"
      ]
    },
    {
      "cell_type": "code",
      "execution_count": null,
      "metadata": {
        "id": "AgpV7U9flPlf"
      },
      "outputs": [],
      "source": [
        "spark = SparkSession.builder.appName(\"test\").getOrCreate()\n"
      ]
    },
    {
      "cell_type": "markdown",
      "source": [
        "2. Define the schema for loading the Chicago crime dataset"
      ],
      "metadata": {
        "id": "qlVasKgT226i"
      }
    },
    {
      "cell_type": "code",
      "execution_count": null,
      "metadata": {
        "id": "6FV_K5tknm22"
      },
      "outputs": [],
      "source": [
        "from pyspark.sql.types import  (StructType, \n",
        "                                StructField, \n",
        "                                DateType, \n",
        "                                BooleanType,\n",
        "                                DoubleType,\n",
        "                                IntegerType,\n",
        "                                StringType,\n",
        "                               TimestampType)\n",
        "\n",
        "\n",
        "crimes_schema = StructType([StructField(\"ID\", StringType(), True),\n",
        "                            StructField(\"CaseNumber\", StringType(), True),\n",
        "                            StructField(\"Date\", StringType(), True ),\n",
        "                            StructField(\"Block\", StringType(), True),\n",
        "                            StructField(\"IUCR\", StringType(), True),\n",
        "                            StructField(\"PrimaryType\", StringType(), True  ),\n",
        "                            StructField(\"Description\", StringType(), True ),\n",
        "                            StructField(\"LocationDescription\", StringType(), True ),\n",
        "                            StructField(\"Arrest\", BooleanType(), True),\n",
        "                            StructField(\"Domestic\", BooleanType(), True),\n",
        "                            StructField(\"Beat\", StringType(), True),\n",
        "                            StructField(\"District\", StringType(), True),\n",
        "                            StructField(\"Ward\", StringType(), True),\n",
        "                            StructField(\"CommunityArea\", StringType(), True),\n",
        "                            StructField(\"FBICode\", StringType(), True ),\n",
        "                            StructField(\"XCoordinate\", DoubleType(), True),\n",
        "                            StructField(\"YCoordinate\", DoubleType(), True ),\n",
        "                            StructField(\"Year\", IntegerType(), True),\n",
        "                            StructField(\"UpdatedOn\", DateType(), True ),\n",
        "                            StructField(\"Latitude\", DoubleType(), True),\n",
        "                            StructField(\"Longitude\", DoubleType(), True),\n",
        "                            StructField(\"Location\", StringType(), True )\n",
        "                            ])"
      ]
    },
    {
      "cell_type": "markdown",
      "source": [
        "3. Load the Chicago crime data"
      ],
      "metadata": {
        "id": "xaLTOZcp3PZQ"
      }
    },
    {
      "cell_type": "code",
      "execution_count": 64,
      "metadata": {
        "id": "0tDJryA5np69"
      },
      "outputs": [],
      "source": [
        "crimes_df = spark.read.csv(\"/content/Crimes_-_2001_to_Present.csv\",\n",
        "                       header = True, \n",
        "                        schema = crimes_schema)"
      ]
    },
    {
      "cell_type": "code",
      "execution_count": null,
      "metadata": {
        "id": "3C6qZHdin2WD"
      },
      "outputs": [],
      "source": [
        "#crimes_df.columns"
      ]
    },
    {
      "cell_type": "code",
      "execution_count": 65,
      "metadata": {
        "colab": {
          "base_uri": "https://localhost:8080/"
        },
        "id": "zbLHcjKloJtX",
        "outputId": "b8f420ef-8211-4274-d92a-9878ab31b4ed"
      },
      "outputs": [
        {
          "output_type": "stream",
          "name": "stdout",
          "text": [
            " The crimes dataframe has 4056279 records\n"
          ]
        }
      ],
      "source": [
        "print(\" The crimes dataframe has {} records\".format(crimes_df.count()))\n"
      ]
    },
    {
      "cell_type": "markdown",
      "source": [
        "4.a Remove all null values."
      ],
      "metadata": {
        "id": "zSh_wVubMnyA"
      }
    },
    {
      "cell_type": "code",
      "source": [
        "test = crimes_df.dropna(how='all', thresh=None, subset=None)"
      ],
      "metadata": {
        "id": "H4jUSyKrai6A"
      },
      "execution_count": 66,
      "outputs": []
    },
    {
      "cell_type": "code",
      "execution_count": 67,
      "metadata": {
        "id": "EmDBA2oPQJ7m",
        "colab": {
          "base_uri": "https://localhost:8080/"
        },
        "outputId": "1ed91279-2296-44ee-b1bd-d306ff93a9f4"
      },
      "outputs": [
        {
          "output_type": "stream",
          "name": "stdout",
          "text": [
            "+--------+----------+----------------------+-----------------------+----+------------------+-----------------------------------+-------------------+------+--------+----+--------+----+-------------+-------+-----------+-----------+----+---------+------------+-------------+-----------------------------+\n",
            "|ID      |CaseNumber|Date                  |Block                  |IUCR|PrimaryType       |Description                        |LocationDescription|Arrest|Domestic|Beat|District|Ward|CommunityArea|FBICode|XCoordinate|YCoordinate|Year|UpdatedOn|Latitude    |Longitude    |Location                     |\n",
            "+--------+----------+----------------------+-----------------------+----+------------------+-----------------------------------+-------------------+------+--------+----+--------+----+-------------+-------+-----------+-----------+----+---------+------------+-------------+-----------------------------+\n",
            "|10224738|HY411648  |09/05/2015 01:30:00 PM|043XX S WOOD ST        |0486|BATTERY           |DOMESTIC BATTERY SIMPLE            |RESIDENCE          |false |true    |0924|009     |12  |61           |08B    |1165074.0  |1875917.0  |2015|null     |41.815117282|-87.669999562|(41.815117282, -87.669999562)|\n",
            "|10224739|HY411615  |09/04/2015 11:30:00 AM|008XX N CENTRAL AVE    |0870|THEFT             |POCKET-PICKING                     |CTA BUS            |false |false   |1511|015     |29  |25           |06     |1138875.0  |1904869.0  |2015|null     |41.895080471|-87.765400451|(41.895080471, -87.765400451)|\n",
            "|11646166|JC213529  |09/01/2018 12:01:00 AM|082XX S INGLESIDE AVE  |0810|THEFT             |OVER $500                          |RESIDENCE          |false |true    |0631|006     |8   |44           |06     |null       |null       |2018|null     |null        |null         |null                         |\n",
            "|10224740|HY411595  |09/05/2015 12:45:00 PM|035XX W BARRY AVE      |2023|NARCOTICS         |POSS: HEROIN(BRN/TAN)              |SIDEWALK           |true  |false   |1412|014     |35  |21           |18     |1152037.0  |1920384.0  |2015|null     |41.937405765|-87.716649687|(41.937405765, -87.716649687)|\n",
            "|10224741|HY411610  |09/05/2015 01:00:00 PM|0000X N LARAMIE AVE    |0560|ASSAULT           |SIMPLE                             |APARTMENT          |false |true    |1522|015     |28  |25           |08A    |1141706.0  |1900086.0  |2015|null     |41.881903443|-87.755121152|(41.881903443, -87.755121152)|\n",
            "|10224742|HY411435  |09/05/2015 10:55:00 AM|082XX S LOOMIS BLVD    |0610|BURGLARY          |FORCIBLE ENTRY                     |RESIDENCE          |false |false   |0614|006     |21  |71           |05     |1168430.0  |1850165.0  |2015|null     |41.744378879|-87.658430635|(41.744378879, -87.658430635)|\n",
            "|10224743|HY411629  |09/04/2015 06:00:00 PM|021XX W CHURCHILL ST   |0620|BURGLARY          |UNLAWFUL ENTRY                     |RESIDENCE-GARAGE   |false |false   |1434|014     |32  |24           |05     |1161628.0  |1912157.0  |2015|null     |41.914635603|-87.681630909|(41.914635603, -87.681630909)|\n",
            "|10224744|HY411605  |09/05/2015 01:00:00 PM|025XX W CERMAK RD      |0860|THEFT             |RETAIL THEFT                       |GROCERY FOOD STORE |true  |false   |1034|010     |25  |31           |06     |1159734.0  |1889313.0  |2015|null     |41.851988885|-87.689219118|(41.851988885, -87.689219118)|\n",
            "|10224745|HY411654  |09/05/2015 11:30:00 AM|031XX W WASHINGTON BLVD|0320|ROBBERY           |STRONGARM - NO WEAPON              |STREET             |false |true    |1222|012     |27  |27           |03     |1155536.0  |1900515.0  |2015|null     |41.88281374 |-87.704325717|(41.88281374, -87.704325717) |\n",
            "|11645836|JC212333  |05/01/2016 12:25:00 AM|055XX S ROCKWELL ST    |1153|DECEPTIVE PRACTICE|FINANCIAL IDENTITY THEFT OVER $ 300|null               |false |false   |0824|008     |15  |63           |11     |null       |null       |2016|null     |null        |null         |null                         |\n",
            "+--------+----------+----------------------+-----------------------+----+------------------+-----------------------------------+-------------------+------+--------+----+--------+----+-------------+-------+-----------+-----------+----+---------+------------+-------------+-----------------------------+\n",
            "only showing top 10 rows\n",
            "\n"
          ]
        }
      ],
      "source": [
        "test.show(10, truncate = False)"
      ]
    },
    {
      "cell_type": "markdown",
      "source": [
        "4.b  Change Date Column Data Type String to TimeStamp"
      ],
      "metadata": {
        "id": "6V7Z-tVWMx6M"
      }
    },
    {
      "cell_type": "code",
      "execution_count": 68,
      "metadata": {
        "id": "T1ANDM4soJ1E"
      },
      "outputs": [],
      "source": [
        "from datetime import datetime\n",
        "from pyspark.sql.functions import col,udf\n",
        "\n",
        "myfunc =  udf(lambda x: datetime.strptime(x, '%m/%d/%Y %I:%M:%S %p'), TimestampType())\n",
        "df = test.withColumn('Date_time', myfunc(col('Date'))).drop(\"Date\")\n"
      ]
    },
    {
      "cell_type": "code",
      "source": [
        "df.select(df[\"Date_time\"]).show(5)\n"
      ],
      "metadata": {
        "colab": {
          "base_uri": "https://localhost:8080/"
        },
        "id": "3oDi6dUtIGkE",
        "outputId": "c857a42b-8f52-4011-9566-485708db1df8"
      },
      "execution_count": 69,
      "outputs": [
        {
          "output_type": "stream",
          "name": "stdout",
          "text": [
            "+-------------------+\n",
            "|          Date_time|\n",
            "+-------------------+\n",
            "|2015-09-05 13:30:00|\n",
            "|2015-09-04 11:30:00|\n",
            "|2018-09-01 00:01:00|\n",
            "|2015-09-05 12:45:00|\n",
            "|2015-09-05 13:00:00|\n",
            "+-------------------+\n",
            "only showing top 5 rows\n",
            "\n"
          ]
        }
      ]
    },
    {
      "cell_type": "code",
      "execution_count": null,
      "metadata": {
        "id": "8nmHhhXEoJ3r"
      },
      "outputs": [],
      "source": [
        "#df.select(\"Date_time\").show(10, truncate = False)"
      ]
    },
    {
      "cell_type": "code",
      "source": [
        "df.dtypes\n"
      ],
      "metadata": {
        "colab": {
          "base_uri": "https://localhost:8080/"
        },
        "id": "q2nAbmK3HpN-",
        "outputId": "3023e2ac-679b-4b9e-88b0-c355bc8b3add"
      },
      "execution_count": 70,
      "outputs": [
        {
          "output_type": "execute_result",
          "data": {
            "text/plain": [
              "[('ID', 'string'),\n",
              " ('CaseNumber', 'string'),\n",
              " ('Block', 'string'),\n",
              " ('IUCR', 'string'),\n",
              " ('PrimaryType', 'string'),\n",
              " ('Description', 'string'),\n",
              " ('LocationDescription', 'string'),\n",
              " ('Arrest', 'boolean'),\n",
              " ('Domestic', 'boolean'),\n",
              " ('Beat', 'string'),\n",
              " ('District', 'string'),\n",
              " ('Ward', 'string'),\n",
              " ('CommunityArea', 'string'),\n",
              " ('FBICode', 'string'),\n",
              " ('XCoordinate', 'double'),\n",
              " ('YCoordinate', 'double'),\n",
              " ('Year', 'int'),\n",
              " ('UpdatedOn', 'date'),\n",
              " ('Latitude', 'double'),\n",
              " ('Longitude', 'double'),\n",
              " ('Location', 'string'),\n",
              " ('Date_time', 'timestamp')]"
            ]
          },
          "metadata": {},
          "execution_count": 70
        }
      ]
    },
    {
      "cell_type": "markdown",
      "source": [
        "5. Filter the data for last ten years.\n"
      ],
      "metadata": {
        "id": "2SMyLOzsND2y"
      }
    },
    {
      "cell_type": "code",
      "execution_count": null,
      "metadata": {
        "id": "Qxs_we97SgwU"
      },
      "outputs": [],
      "source": [
        "#df.select(\"Year\").show(10, truncate = False)"
      ]
    },
    {
      "cell_type": "code",
      "execution_count": 71,
      "metadata": {
        "colab": {
          "base_uri": "https://localhost:8080/"
        },
        "id": "EQ3THMneoJ6U",
        "outputId": "c2dae915-0a64-4a72-f5dc-04bec6b5effc"
      },
      "outputs": [
        {
          "output_type": "stream",
          "name": "stdout",
          "text": [
            "+----+\n",
            "|Year|\n",
            "+----+\n",
            "|2015|\n",
            "|2015|\n",
            "|2018|\n",
            "|2015|\n",
            "|2015|\n",
            "|2015|\n",
            "|2015|\n",
            "|2015|\n",
            "|2015|\n",
            "|2016|\n",
            "|2015|\n",
            "|2015|\n",
            "|2015|\n",
            "|2015|\n",
            "|2015|\n",
            "|2015|\n",
            "|2015|\n",
            "|2015|\n",
            "|2015|\n",
            "|2015|\n",
            "+----+\n",
            "only showing top 20 rows\n",
            "\n"
          ]
        }
      ],
      "source": [
        "df.where(df[\"Year\"] > 2012).select('Year').show(20)"
      ]
    },
    {
      "cell_type": "code",
      "source": [
        "df =df.where(df[\"Year\"] > 2012)"
      ],
      "metadata": {
        "id": "O961VFf2QP4F"
      },
      "execution_count": 72,
      "outputs": []
    },
    {
      "cell_type": "code",
      "source": [
        "df.show(20)"
      ],
      "metadata": {
        "colab": {
          "base_uri": "https://localhost:8080/"
        },
        "id": "GiUlvfFX5KAt",
        "outputId": "04369244-ceb3-4290-e9a4-293f9e8f588e"
      },
      "execution_count": 73,
      "outputs": [
        {
          "output_type": "stream",
          "name": "stdout",
          "text": [
            "+--------+----------+--------------------+----+------------------+--------------------+--------------------+------+--------+----+--------+----+-------------+-------+-----------+-----------+----+---------+------------+-------------+--------------------+-------------------+\n",
            "|      ID|CaseNumber|               Block|IUCR|       PrimaryType|         Description| LocationDescription|Arrest|Domestic|Beat|District|Ward|CommunityArea|FBICode|XCoordinate|YCoordinate|Year|UpdatedOn|    Latitude|    Longitude|            Location|          Date_time|\n",
            "+--------+----------+--------------------+----+------------------+--------------------+--------------------+------+--------+----+--------+----+-------------+-------+-----------+-----------+----+---------+------------+-------------+--------------------+-------------------+\n",
            "|10224738|  HY411648|     043XX S WOOD ST|0486|           BATTERY|DOMESTIC BATTERY ...|           RESIDENCE| false|    true|0924|     009|  12|           61|    08B|  1165074.0|  1875917.0|2015|     null|41.815117282|-87.669999562|(41.815117282, -8...|2015-09-05 13:30:00|\n",
            "|10224739|  HY411615| 008XX N CENTRAL AVE|0870|             THEFT|      POCKET-PICKING|             CTA BUS| false|   false|1511|     015|  29|           25|     06|  1138875.0|  1904869.0|2015|     null|41.895080471|-87.765400451|(41.895080471, -8...|2015-09-04 11:30:00|\n",
            "|11646166|  JC213529|082XX S INGLESIDE...|0810|             THEFT|           OVER $500|           RESIDENCE| false|    true|0631|     006|   8|           44|     06|       null|       null|2018|     null|        null|         null|                null|2018-09-01 00:01:00|\n",
            "|10224740|  HY411595|   035XX W BARRY AVE|2023|         NARCOTICS|POSS: HEROIN(BRN/...|            SIDEWALK|  true|   false|1412|     014|  35|           21|     18|  1152037.0|  1920384.0|2015|     null|41.937405765|-87.716649687|(41.937405765, -8...|2015-09-05 12:45:00|\n",
            "|10224741|  HY411610| 0000X N LARAMIE AVE|0560|           ASSAULT|              SIMPLE|           APARTMENT| false|    true|1522|     015|  28|           25|    08A|  1141706.0|  1900086.0|2015|     null|41.881903443|-87.755121152|(41.881903443, -8...|2015-09-05 13:00:00|\n",
            "|10224742|  HY411435| 082XX S LOOMIS BLVD|0610|          BURGLARY|      FORCIBLE ENTRY|           RESIDENCE| false|   false|0614|     006|  21|           71|     05|  1168430.0|  1850165.0|2015|     null|41.744378879|-87.658430635|(41.744378879, -8...|2015-09-05 10:55:00|\n",
            "|10224743|  HY411629|021XX W CHURCHILL ST|0620|          BURGLARY|      UNLAWFUL ENTRY|    RESIDENCE-GARAGE| false|   false|1434|     014|  32|           24|     05|  1161628.0|  1912157.0|2015|     null|41.914635603|-87.681630909|(41.914635603, -8...|2015-09-04 18:00:00|\n",
            "|10224744|  HY411605|   025XX W CERMAK RD|0860|             THEFT|        RETAIL THEFT|  GROCERY FOOD STORE|  true|   false|1034|     010|  25|           31|     06|  1159734.0|  1889313.0|2015|     null|41.851988885|-87.689219118|(41.851988885, -8...|2015-09-05 13:00:00|\n",
            "|10224745|  HY411654|031XX W WASHINGTO...|0320|           ROBBERY|STRONGARM - NO WE...|              STREET| false|    true|1222|     012|  27|           27|     03|  1155536.0|  1900515.0|2015|     null| 41.88281374|-87.704325717|(41.88281374, -87...|2015-09-05 11:30:00|\n",
            "|11645836|  JC212333| 055XX S ROCKWELL ST|1153|DECEPTIVE PRACTICE|FINANCIAL IDENTIT...|                null| false|   false|0824|     008|  15|           63|     11|       null|       null|2016|     null|        null|         null|                null|2016-05-01 00:25:00|\n",
            "|10224746|  HY411662|  071XX S PULASKI RD|0820|             THEFT|      $500 AND UNDER|PARKING LOT/GARAG...| false|   false|0833|     008|  13|           65|     06|  1150938.0|  1857056.0|2015|     null|41.763647552|-87.722344693|(41.763647552, -8...|2015-09-05 14:00:00|\n",
            "|10224749|  HY411626|052XX N MILWAUKEE...|0460|           BATTERY|              SIMPLE|  SMALL RETAIL STORE| false|   false|1623|     016|  45|           11|    08B|  1137969.0|  1934340.0|2015|     null|41.975968415|-87.768014257|(41.975968415, -8...|2015-09-05 11:00:00|\n",
            "|10224750|  HY411632|    0000X W 103RD ST|2820|     OTHER OFFENSE|    TELEPHONE THREAT|           APARTMENT| false|    true|0512|     005|  34|           49|     26|  1177871.0|  1836676.0|2015|     null|41.707154919|-87.624244993|(41.707154919, -8...|2015-09-05 03:00:00|\n",
            "|10224751|  HY411566|     013XX E 47TH ST|0486|           BATTERY|DOMESTIC BATTERY ...|              STREET| false|    true|0222|     002|   4|           39|    08B|  1185907.0|  1874105.0|2015|     null|41.809678314|-87.593638934|(41.809678314, -8...|2015-09-05 12:50:00|\n",
            "|10224752|  HY411601| 020XX W SCHILLER ST|0810|             THEFT|           OVER $500|              STREET| false|   false|1424|     014|   1|           24|     06|  1162574.0|  1909428.0|2015|     null|41.907127255|-87.678232016|(41.907127255, -8...|2015-09-03 13:00:00|\n",
            "|10224753|  HY411489|  080XX S JUSTINE ST|0497|           BATTERY|AGGRAVATED DOMEST...|           APARTMENT| false|   false|0612|     006|  21|           71|    04B|  1167400.0|  1851512.0|2015|     null|41.748097343|-87.662166183|(41.748097343, -8...|2015-09-05 11:45:00|\n",
            "|10224754|  HY411656|007XX N LEAMINGTO...|1320|   CRIMINAL DAMAGE|          TO VEHICLE|              STREET| false|   false|1531|     015|  28|           25|     14|  1141889.0|  1904448.0|2015|     null|41.893869916|-87.754341096|(41.893869916, -8...|2015-09-05 13:30:00|\n",
            "|10224756|  HY410094|103XX S TORRENCE AVE|0620|          BURGLARY|      UNLAWFUL ENTRY|               OTHER| false|   false|0434|     004|  10|           51|     05|  1195508.0|  1836950.0|2015|     null|41.707490122|-87.559650325|(41.707490122, -8...|2015-07-08 00:00:00|\n",
            "|10224757|  HY411388|  088XX S PAULINA ST|0610|          BURGLARY|      FORCIBLE ENTRY|           RESIDENCE|  true|   false|2221|     022|  21|           71|     05|  1166554.0|  1846067.0|2015|     null|41.733173536|-87.665421067|(41.733173536, -8...|2015-09-05 09:55:00|\n",
            "|10224758|  HY411568|    059XX W GRACE ST|0486|           BATTERY|DOMESTIC BATTERY ...|              STREET| false|    true|1633|     016|  38|           15|    08B|  1136014.0|  1924656.0|2015|     null|41.949429769|-87.775435529|(41.949429769, -8...|2015-09-05 12:35:00|\n",
            "+--------+----------+--------------------+----+------------------+--------------------+--------------------+------+--------+----+--------+----+-------------+-------+-----------+-----------+----+---------+------------+-------------+--------------------+-------------------+\n",
            "only showing top 20 rows\n",
            "\n"
          ]
        }
      ]
    },
    {
      "cell_type": "markdown",
      "source": [
        "6. Remove all the records with the following crime types:"
      ],
      "metadata": {
        "id": "ucbmP0cz50FW"
      }
    },
    {
      "cell_type": "code",
      "execution_count": 74,
      "metadata": {
        "id": "_RWp85C0lpBB",
        "colab": {
          "base_uri": "https://localhost:8080/"
        },
        "outputId": "2d08582c-b591-498a-ff30-f4eed7649dc7"
      },
      "outputs": [
        {
          "output_type": "stream",
          "name": "stdout",
          "text": [
            "+------------------+\n",
            "|PrimaryType       |\n",
            "+------------------+\n",
            "|BATTERY           |\n",
            "|THEFT             |\n",
            "|THEFT             |\n",
            "|NARCOTICS         |\n",
            "|ASSAULT           |\n",
            "|BURGLARY          |\n",
            "|BURGLARY          |\n",
            "|THEFT             |\n",
            "|ROBBERY           |\n",
            "|DECEPTIVE PRACTICE|\n",
            "+------------------+\n",
            "only showing top 10 rows\n",
            "\n"
          ]
        }
      ],
      "source": [
        "df.select(\"PrimaryType\").show(10, truncate = False)"
      ]
    },
    {
      "cell_type": "code",
      "execution_count": null,
      "metadata": {
        "id": "xX4emx0rnC7x"
      },
      "outputs": [],
      "source": [
        "#crimes_df.where(crimes_df[\"PrimaryType\"] == \"OTHER OFFENSE\").count()\n"
      ]
    },
    {
      "cell_type": "code",
      "source": [
        "df = df.where(\"PrimaryType <> 'OTHER OFFENSE'\")\n",
        "df = df.where(\"PrimaryType <> 'NON-CRIMINAL'\")\n",
        "df = df.where(\"PrimaryType <> 'STALKING'\")\n",
        "df = df.where(\"PrimaryType <> 'NON-CRIMINAL (SUBJECT SPECIFIED)'\")\n",
        "df = df.where(\"PrimaryType <> 'ARSON'\")"
      ],
      "metadata": {
        "id": "mKxSkuJ0Yxzu"
      },
      "execution_count": 77,
      "outputs": []
    },
    {
      "cell_type": "code",
      "source": [
        "df.select(\"PrimaryType\").distinct().show(n = 35)\n"
      ],
      "metadata": {
        "colab": {
          "base_uri": "https://localhost:8080/"
        },
        "id": "BnfSU2lFYx2I",
        "outputId": "87922b2d-844e-417f-b827-4d02fb5d838c"
      },
      "execution_count": 78,
      "outputs": [
        {
          "output_type": "stream",
          "name": "stdout",
          "text": [
            "+--------------------+\n",
            "|         PrimaryType|\n",
            "+--------------------+\n",
            "|OFFENSE INVOLVING...|\n",
            "|CRIMINAL SEXUAL A...|\n",
            "|PUBLIC PEACE VIOL...|\n",
            "|           OBSCENITY|\n",
            "|            GAMBLING|\n",
            "|   CRIMINAL TRESPASS|\n",
            "|             ASSAULT|\n",
            "|LIQUOR LAW VIOLATION|\n",
            "| MOTOR VEHICLE THEFT|\n",
            "|               THEFT|\n",
            "|             BATTERY|\n",
            "|             ROBBERY|\n",
            "|            HOMICIDE|\n",
            "|    PUBLIC INDECENCY|\n",
            "| CRIM SEXUAL ASSAULT|\n",
            "|   HUMAN TRAFFICKING|\n",
            "|        INTIMIDATION|\n",
            "|        PROSTITUTION|\n",
            "|  DECEPTIVE PRACTICE|\n",
            "|CONCEALED CARRY L...|\n",
            "|         SEX OFFENSE|\n",
            "|     CRIMINAL DAMAGE|\n",
            "|           NARCOTICS|\n",
            "|          KIDNAPPING|\n",
            "|            BURGLARY|\n",
            "|   WEAPONS VIOLATION|\n",
            "|OTHER NARCOTIC VI...|\n",
            "|INTERFERENCE WITH...|\n",
            "+--------------------+\n",
            "\n"
          ]
        }
      ]
    },
    {
      "cell_type": "code",
      "source": [],
      "metadata": {
        "id": "Kqsd0dEaVY9W"
      },
      "execution_count": 43,
      "outputs": []
    },
    {
      "cell_type": "markdown",
      "source": [
        "7. Merge the similar crime types.\n"
      ],
      "metadata": {
        "id": "5_laCN326LyA"
      }
    },
    {
      "cell_type": "code",
      "source": [
        "from pyspark.sql.functions import regexp_replace\n"
      ],
      "metadata": {
        "id": "5uJJM1K86RF2"
      },
      "execution_count": 84,
      "outputs": []
    },
    {
      "cell_type": "code",
      "source": [
        "df =df.withColumn('PrimaryType', regexp_replace('PrimaryType', 'PROSTITUTION', 'SEX OFFENSE'))\n",
        "df =df.withColumn('PrimaryType', regexp_replace('PrimaryType', 'CRIM SEXUAL ASSAULT', 'SEX OFFENSE'))\n",
        "df =df.withColumn('PrimaryType', regexp_replace('PrimaryType', 'HUMAN TRAFFICKING', 'SEX OFFENSE'))\n",
        "df =df.withColumn('PrimaryType', regexp_replace('PrimaryType', 'CRIMINAL SEXUAL ASSAULT', 'SEX OFFENSE'))\n"
      ],
      "metadata": {
        "id": "_MmoJfBJTT85"
      },
      "execution_count": 85,
      "outputs": []
    },
    {
      "cell_type": "code",
      "source": [
        "df =df.withColumn('PrimaryType', regexp_replace('PrimaryType', 'MOTOR VEHICLE THEFT', 'THEFT'))\n",
        "df =df.withColumn('PrimaryType', regexp_replace('PrimaryType', 'BURGLARY', 'THEFT'))\n",
        "df =df.withColumn('PrimaryType', regexp_replace('PrimaryType', 'ROBBERY', 'THEFT'))\n"
      ],
      "metadata": {
        "id": "q1ccr-nCVzIu"
      },
      "execution_count": 86,
      "outputs": []
    },
    {
      "cell_type": "code",
      "source": [
        "df.select(\"PrimaryType\").distinct().show(n = 35)\n"
      ],
      "metadata": {
        "colab": {
          "base_uri": "https://localhost:8080/"
        },
        "id": "ML52Y-nl9VPb",
        "outputId": "de8065f6-2dfc-4078-837f-275043936208"
      },
      "execution_count": 87,
      "outputs": [
        {
          "output_type": "stream",
          "name": "stdout",
          "text": [
            "+--------------------+\n",
            "|         PrimaryType|\n",
            "+--------------------+\n",
            "|OFFENSE INVOLVING...|\n",
            "|PUBLIC PEACE VIOL...|\n",
            "|           OBSCENITY|\n",
            "|            GAMBLING|\n",
            "|   CRIMINAL TRESPASS|\n",
            "|             ASSAULT|\n",
            "|LIQUOR LAW VIOLATION|\n",
            "|               THEFT|\n",
            "|             BATTERY|\n",
            "|            HOMICIDE|\n",
            "|    PUBLIC INDECENCY|\n",
            "|        INTIMIDATION|\n",
            "|  DECEPTIVE PRACTICE|\n",
            "|CONCEALED CARRY L...|\n",
            "|         SEX OFFENSE|\n",
            "|     CRIMINAL DAMAGE|\n",
            "|           NARCOTICS|\n",
            "|          KIDNAPPING|\n",
            "|   WEAPONS VIOLATION|\n",
            "|OTHER NARCOTIC VI...|\n",
            "|INTERFERENCE WITH...|\n",
            "+--------------------+\n",
            "\n"
          ]
        }
      ]
    },
    {
      "cell_type": "markdown",
      "source": [
        "8. Show year-wise trend of the crime for last ten years."
      ],
      "metadata": {
        "id": "ps1vodnQcUwz"
      }
    },
    {
      "cell_type": "code",
      "source": [
        "import pandas as pd\n",
        "import matplotlib.pyplot as plt\n",
        "%matplotlib inline"
      ],
      "metadata": {
        "id": "EF4D4qyAYx4S"
      },
      "execution_count": 49,
      "outputs": []
    },
    {
      "cell_type": "code",
      "source": [
        "df.groupBy(\"Year\").count().show()\n"
      ],
      "metadata": {
        "id": "5zTvszlIYx7I",
        "colab": {
          "base_uri": "https://localhost:8080/"
        },
        "outputId": "449831f4-e31b-48f7-8477-09d7a15253f6"
      },
      "execution_count": 50,
      "outputs": [
        {
          "output_type": "stream",
          "name": "stdout",
          "text": [
            "+----+------+\n",
            "|Year| count|\n",
            "+----+------+\n",
            "|2018|241595|\n",
            "|2015|133266|\n",
            "|2022|    92|\n",
            "|2013|   427|\n",
            "|2014|   993|\n",
            "|2019| 93281|\n",
            "|2020| 10984|\n",
            "|2016|243791|\n",
            "|2017|242879|\n",
            "|2021|  1617|\n",
            "+----+------+\n",
            "\n"
          ]
        }
      ]
    },
    {
      "cell_type": "code",
      "source": [
        "df.groupBy(\"Year\").count().collect()\n"
      ],
      "metadata": {
        "colab": {
          "base_uri": "https://localhost:8080/"
        },
        "id": "MclGY7vRYuFm",
        "outputId": "2ead8e22-fbcc-4742-a2b1-086ef5235265"
      },
      "execution_count": 51,
      "outputs": [
        {
          "output_type": "execute_result",
          "data": {
            "text/plain": [
              "[Row(Year=2018, count=241595),\n",
              " Row(Year=2015, count=133266),\n",
              " Row(Year=2022, count=92),\n",
              " Row(Year=2013, count=427),\n",
              " Row(Year=2014, count=993),\n",
              " Row(Year=2019, count=93281),\n",
              " Row(Year=2020, count=10984),\n",
              " Row(Year=2016, count=243791),\n",
              " Row(Year=2017, count=242879),\n",
              " Row(Year=2021, count=1617)]"
            ]
          },
          "metadata": {},
          "execution_count": 51
        }
      ]
    },
    {
      "cell_type": "code",
      "source": [
        "count = [item[1] for item in df.groupBy(\"Year\").count().collect()]\n",
        "year = [item[0] for item in df.groupBy(\"Year\").count().collect()]"
      ],
      "metadata": {
        "id": "y3PI7Mw5Yx-B"
      },
      "execution_count": 52,
      "outputs": []
    },
    {
      "cell_type": "code",
      "source": [
        "number_of_crimes_per_year = {\"count\":count, \"year\" : year}\n"
      ],
      "metadata": {
        "id": "e3xSpN6FQ68T"
      },
      "execution_count": 53,
      "outputs": []
    },
    {
      "cell_type": "code",
      "source": [
        "import pandas as pd\n",
        "import matplotlib.pyplot as plt\n",
        "%matplotlib inline"
      ],
      "metadata": {
        "id": "n0UrwnhkZK70"
      },
      "execution_count": 54,
      "outputs": []
    },
    {
      "cell_type": "code",
      "source": [
        "number_of_crimes_per_year = pd.DataFrame(number_of_crimes_per_year)\n"
      ],
      "metadata": {
        "id": "ZuN2mEXdZwAr"
      },
      "execution_count": 55,
      "outputs": []
    },
    {
      "cell_type": "code",
      "source": [
        "number_of_crimes_per_year.head()\n"
      ],
      "metadata": {
        "colab": {
          "base_uri": "https://localhost:8080/",
          "height": 206
        },
        "id": "UJu1IgbxQ7FP",
        "outputId": "634b10f5-bd25-40bc-dec2-661614d1a831"
      },
      "execution_count": 56,
      "outputs": [
        {
          "output_type": "execute_result",
          "data": {
            "text/plain": [
              "    count  year\n",
              "0  241595  2018\n",
              "1  133266  2015\n",
              "2      92  2022\n",
              "3     427  2013\n",
              "4     993  2014"
            ],
            "text/html": [
              "\n",
              "  <div id=\"df-c479b021-05fa-4e8e-a102-9d6fbb84fe11\">\n",
              "    <div class=\"colab-df-container\">\n",
              "      <div>\n",
              "<style scoped>\n",
              "    .dataframe tbody tr th:only-of-type {\n",
              "        vertical-align: middle;\n",
              "    }\n",
              "\n",
              "    .dataframe tbody tr th {\n",
              "        vertical-align: top;\n",
              "    }\n",
              "\n",
              "    .dataframe thead th {\n",
              "        text-align: right;\n",
              "    }\n",
              "</style>\n",
              "<table border=\"1\" class=\"dataframe\">\n",
              "  <thead>\n",
              "    <tr style=\"text-align: right;\">\n",
              "      <th></th>\n",
              "      <th>count</th>\n",
              "      <th>year</th>\n",
              "    </tr>\n",
              "  </thead>\n",
              "  <tbody>\n",
              "    <tr>\n",
              "      <th>0</th>\n",
              "      <td>241595</td>\n",
              "      <td>2018</td>\n",
              "    </tr>\n",
              "    <tr>\n",
              "      <th>1</th>\n",
              "      <td>133266</td>\n",
              "      <td>2015</td>\n",
              "    </tr>\n",
              "    <tr>\n",
              "      <th>2</th>\n",
              "      <td>92</td>\n",
              "      <td>2022</td>\n",
              "    </tr>\n",
              "    <tr>\n",
              "      <th>3</th>\n",
              "      <td>427</td>\n",
              "      <td>2013</td>\n",
              "    </tr>\n",
              "    <tr>\n",
              "      <th>4</th>\n",
              "      <td>993</td>\n",
              "      <td>2014</td>\n",
              "    </tr>\n",
              "  </tbody>\n",
              "</table>\n",
              "</div>\n",
              "      <button class=\"colab-df-convert\" onclick=\"convertToInteractive('df-c479b021-05fa-4e8e-a102-9d6fbb84fe11')\"\n",
              "              title=\"Convert this dataframe to an interactive table.\"\n",
              "              style=\"display:none;\">\n",
              "        \n",
              "  <svg xmlns=\"http://www.w3.org/2000/svg\" height=\"24px\"viewBox=\"0 0 24 24\"\n",
              "       width=\"24px\">\n",
              "    <path d=\"M0 0h24v24H0V0z\" fill=\"none\"/>\n",
              "    <path d=\"M18.56 5.44l.94 2.06.94-2.06 2.06-.94-2.06-.94-.94-2.06-.94 2.06-2.06.94zm-11 1L8.5 8.5l.94-2.06 2.06-.94-2.06-.94L8.5 2.5l-.94 2.06-2.06.94zm10 10l.94 2.06.94-2.06 2.06-.94-2.06-.94-.94-2.06-.94 2.06-2.06.94z\"/><path d=\"M17.41 7.96l-1.37-1.37c-.4-.4-.92-.59-1.43-.59-.52 0-1.04.2-1.43.59L10.3 9.45l-7.72 7.72c-.78.78-.78 2.05 0 2.83L4 21.41c.39.39.9.59 1.41.59.51 0 1.02-.2 1.41-.59l7.78-7.78 2.81-2.81c.8-.78.8-2.07 0-2.86zM5.41 20L4 18.59l7.72-7.72 1.47 1.35L5.41 20z\"/>\n",
              "  </svg>\n",
              "      </button>\n",
              "      \n",
              "  <style>\n",
              "    .colab-df-container {\n",
              "      display:flex;\n",
              "      flex-wrap:wrap;\n",
              "      gap: 12px;\n",
              "    }\n",
              "\n",
              "    .colab-df-convert {\n",
              "      background-color: #E8F0FE;\n",
              "      border: none;\n",
              "      border-radius: 50%;\n",
              "      cursor: pointer;\n",
              "      display: none;\n",
              "      fill: #1967D2;\n",
              "      height: 32px;\n",
              "      padding: 0 0 0 0;\n",
              "      width: 32px;\n",
              "    }\n",
              "\n",
              "    .colab-df-convert:hover {\n",
              "      background-color: #E2EBFA;\n",
              "      box-shadow: 0px 1px 2px rgba(60, 64, 67, 0.3), 0px 1px 3px 1px rgba(60, 64, 67, 0.15);\n",
              "      fill: #174EA6;\n",
              "    }\n",
              "\n",
              "    [theme=dark] .colab-df-convert {\n",
              "      background-color: #3B4455;\n",
              "      fill: #D2E3FC;\n",
              "    }\n",
              "\n",
              "    [theme=dark] .colab-df-convert:hover {\n",
              "      background-color: #434B5C;\n",
              "      box-shadow: 0px 1px 3px 1px rgba(0, 0, 0, 0.15);\n",
              "      filter: drop-shadow(0px 1px 2px rgba(0, 0, 0, 0.3));\n",
              "      fill: #FFFFFF;\n",
              "    }\n",
              "  </style>\n",
              "\n",
              "      <script>\n",
              "        const buttonEl =\n",
              "          document.querySelector('#df-c479b021-05fa-4e8e-a102-9d6fbb84fe11 button.colab-df-convert');\n",
              "        buttonEl.style.display =\n",
              "          google.colab.kernel.accessAllowed ? 'block' : 'none';\n",
              "\n",
              "        async function convertToInteractive(key) {\n",
              "          const element = document.querySelector('#df-c479b021-05fa-4e8e-a102-9d6fbb84fe11');\n",
              "          const dataTable =\n",
              "            await google.colab.kernel.invokeFunction('convertToInteractive',\n",
              "                                                     [key], {});\n",
              "          if (!dataTable) return;\n",
              "\n",
              "          const docLinkHtml = 'Like what you see? Visit the ' +\n",
              "            '<a target=\"_blank\" href=https://colab.research.google.com/notebooks/data_table.ipynb>data table notebook</a>'\n",
              "            + ' to learn more about interactive tables.';\n",
              "          element.innerHTML = '';\n",
              "          dataTable['output_type'] = 'display_data';\n",
              "          await google.colab.output.renderOutput(dataTable, element);\n",
              "          const docLink = document.createElement('div');\n",
              "          docLink.innerHTML = docLinkHtml;\n",
              "          element.appendChild(docLink);\n",
              "        }\n",
              "      </script>\n",
              "    </div>\n",
              "  </div>\n",
              "  "
            ]
          },
          "metadata": {},
          "execution_count": 56
        }
      ]
    },
    {
      "cell_type": "code",
      "source": [
        "number_of_crimes_per_year = number_of_crimes_per_year.sort_values(by = \"year\")\n",
        "\n",
        "number_of_crimes_per_year.plot(figsize = (20,10), kind = \"bar\", color = \"blue\",\n",
        "                               x = \"year\", y = \"count\", legend = False)\n",
        "\n",
        "plt.xlabel(\"\", fontsize = 18)\n",
        "plt.ylabel(\"Number of Crimes\", fontsize = 18)\n",
        "plt.title(\"Number of Crimes Per Year\", fontsize = 28)\n",
        "plt.xticks(size = 18)\n",
        "plt.yticks(size = 18)\n",
        "plt.show()"
      ],
      "metadata": {
        "colab": {
          "base_uri": "https://localhost:8080/",
          "height": 675
        },
        "id": "WHEbNUArXhlV",
        "outputId": "6802169a-e11a-4487-b8ec-56b90671f556"
      },
      "execution_count": 57,
      "outputs": [
        {
          "output_type": "display_data",
          "data": {
            "text/plain": [
              "<Figure size 1440x720 with 1 Axes>"
            ],
            "image/png": "[encoded data removed]"
          },
          "metadata": {
            "needs_background": "light"
          }
        }
      ]
    },
    {
      "cell_type": "markdown",
      "source": [
        "8. Find out at which hour of the day crime is highest."
      ],
      "metadata": {
        "id": "j0vNMHkHcqpb"
      }
    },
    {
      "cell_type": "code",
      "source": [
        "from pyspark.sql.functions import date_format\n",
        "df = df.withColumn(\"DayOfWeek\", date_format(\"Date_time\",\"E\")).\\\n",
        "      withColumn(\"DayOfWeek_number\", date_format(\"Date_time\",\"u\")).\\\n",
        "      withColumn(\"HourOfDay\", date_format(\"Date_time\",\"H\"))\n",
        "weekDaysCount  = df.groupBy([\"DayOfWeek\", \"DayOfWeek_number\"]).count()\n"
      ],
      "metadata": {
        "id": "tsL2xV5dR_zS"
      },
      "execution_count": 58,
      "outputs": []
    },
    {
      "cell_type": "code",
      "source": [
        "df.printSchema()\n"
      ],
      "metadata": {
        "colab": {
          "base_uri": "https://localhost:8080/"
        },
        "id": "KIj7HZE2SAIH",
        "outputId": "12a6d9a7-eeb0-437e-a3c7-2251fc7de0bb"
      },
      "execution_count": 59,
      "outputs": [
        {
          "output_type": "stream",
          "name": "stdout",
          "text": [
            "root\n",
            " |-- ID: string (nullable = true)\n",
            " |-- CaseNumber: string (nullable = true)\n",
            " |-- Block: string (nullable = true)\n",
            " |-- IUCR: string (nullable = true)\n",
            " |-- PrimaryType: string (nullable = true)\n",
            " |-- Description: string (nullable = true)\n",
            " |-- LocationDescription: string (nullable = true)\n",
            " |-- Arrest: boolean (nullable = true)\n",
            " |-- Domestic: boolean (nullable = true)\n",
            " |-- Beat: string (nullable = true)\n",
            " |-- District: string (nullable = true)\n",
            " |-- Ward: string (nullable = true)\n",
            " |-- CommunityArea: string (nullable = true)\n",
            " |-- FBICode: string (nullable = true)\n",
            " |-- XCoordinate: double (nullable = true)\n",
            " |-- YCoordinate: double (nullable = true)\n",
            " |-- Year: integer (nullable = true)\n",
            " |-- UpdatedOn: date (nullable = true)\n",
            " |-- Latitude: double (nullable = true)\n",
            " |-- Longitude: double (nullable = true)\n",
            " |-- Location: string (nullable = true)\n",
            " |-- Date_time: timestamp (nullable = true)\n",
            " |-- DayOfWeek: string (nullable = true)\n",
            " |-- DayOfWeek_number: string (nullable = true)\n",
            " |-- HourOfDay: string (nullable = true)\n",
            "\n"
          ]
        }
      ]
    },
    {
      "cell_type": "code",
      "source": [
        "df = df.select(df['HourOfDay'].cast('int').alias('HourOfDay'))\n",
        "hourlyCount  = df.groupBy([\"HourOfDay\"]).count().collect()\n",
        "\n",
        "hours = [item[0] for item in hourlyCount]\n",
        "count = [item[1] for item in hourlyCount]\n",
        "\n",
        "crime_byHour = {\"count\": count, \"hours\": hours}\n",
        "crime_byHour = pd.DataFrame(crime_byHour)\n",
        "crime_byHour = crime_byHour.sort_values(by = \"hours\", ascending  = True)\n",
        "\n",
        "\n",
        "crime_byHour.plot(figsize = (20,10), kind = \"line\", x = \"hours\", y = \"count\", \n",
        "                      color = \"green\", linewidth = 5, legend = False)\n",
        "\n",
        "plt.ylabel(\"Number of Crimes\", fontsize = 18)\n",
        "plt.xlabel(\"Hour\", fontsize = 18)\n",
        "plt.title(\"Number of crimes by hour\", fontsize = 28)\n",
        "plt.xticks(size = 18)\n",
        "plt.yticks(size = 18)\n",
        "plt.show()"
      ],
      "metadata": {
        "colab": {
          "base_uri": "https://localhost:8080/",
          "height": 670
        },
        "id": "iYeegkEzSALJ",
        "outputId": "e7ed9010-1304-4bb9-b566-a8e4feac41fe"
      },
      "execution_count": 60,
      "outputs": [
        {
          "output_type": "display_data",
          "data": {
            "text/plain": [
              "<Figure size 1440x720 with 1 Axes>"
            ],
            "image/png": "[encoded data removed]"
          },
          "metadata": {
            "needs_background": "light"
          }
        }
      ]
    },
    {
      "cell_type": "markdown",
      "source": [
        "8. Find top ten crimes and present them as a bar chart."
      ],
      "metadata": {
        "id": "QMs2BsBxczTK"
      }
    },
    {
      "cell_type": "code",
      "source": [
        "df.groupBy(\"PrimaryType\").count().show()\n"
      ],
      "metadata": {
        "colab": {
          "base_uri": "https://localhost:8080/"
        },
        "id": "CmP6i2r2WdII",
        "outputId": "7dabbf6d-0584-4380-8488-874f14eee8b8"
      },
      "execution_count": 88,
      "outputs": [
        {
          "output_type": "stream",
          "name": "stdout",
          "text": [
            "+--------------------+------+\n",
            "|         PrimaryType| count|\n",
            "+--------------------+------+\n",
            "|OFFENSE INVOLVING...|  9325|\n",
            "|PUBLIC PEACE VIOL...|  6881|\n",
            "|           OBSCENITY|   274|\n",
            "|            GAMBLING|   833|\n",
            "|   CRIMINAL TRESPASS| 27769|\n",
            "|             ASSAULT| 79630|\n",
            "|LIQUOR LAW VIOLATION|   990|\n",
            "|               THEFT|397530|\n",
            "|             BATTERY|206619|\n",
            "|            HOMICIDE|    34|\n",
            "|    PUBLIC INDECENCY|    47|\n",
            "|        INTIMIDATION|   617|\n",
            "|  DECEPTIVE PRACTICE| 77169|\n",
            "|CONCEALED CARRY L...|   381|\n",
            "|         SEX OFFENSE| 13604|\n",
            "|     CRIMINAL DAMAGE|122345|\n",
            "|           NARCOTICS| 58844|\n",
            "|          KIDNAPPING|   775|\n",
            "|   WEAPONS VIOLATION| 19681|\n",
            "|OTHER NARCOTIC VI...|    22|\n",
            "+--------------------+------+\n",
            "only showing top 20 rows\n",
            "\n"
          ]
        }
      ]
    },
    {
      "cell_type": "code",
      "source": [
        "crime_type  = df.groupBy(\"PrimaryType\").count().collect()\n",
        "location = [item[0] for item in crime_type]\n",
        "count = [item[1] for item in crime_type]\n",
        "crime_type = {\"Crime_type\" : location, \"count\": count}\n",
        "crime_type = pd.DataFrame(crime_type)\n",
        "crime_type = crime_type.sort_values(by = \"count\", ascending  = False)\n",
        "crime_type.iloc[:5]"
      ],
      "metadata": {
        "colab": {
          "base_uri": "https://localhost:8080/",
          "height": 206
        },
        "id": "Ykz5WpvNSAOD",
        "outputId": "77ca8c9f-a5d6-4289-96e4-dd667859a11c"
      },
      "execution_count": 90,
      "outputs": [
        {
          "output_type": "execute_result",
          "data": {
            "text/plain": [
              "            Crime_type   count\n",
              "7                THEFT  397530\n",
              "8              BATTERY  206619\n",
              "15     CRIMINAL DAMAGE  122345\n",
              "5              ASSAULT   79630\n",
              "12  DECEPTIVE PRACTICE   77169"
            ],
            "text/html": [
              "\n",
              "  <div id=\"df-26ca724e-7cad-4f9e-a319-a9038dbfc2b1\">\n",
              "    <div class=\"colab-df-container\">\n",
              "      <div>\n",
              "<style scoped>\n",
              "    .dataframe tbody tr th:only-of-type {\n",
              "        vertical-align: middle;\n",
              "    }\n",
              "\n",
              "    .dataframe tbody tr th {\n",
              "        vertical-align: top;\n",
              "    }\n",
              "\n",
              "    .dataframe thead th {\n",
              "        text-align: right;\n",
              "    }\n",
              "</style>\n",
              "<table border=\"1\" class=\"dataframe\">\n",
              "  <thead>\n",
              "    <tr style=\"text-align: right;\">\n",
              "      <th></th>\n",
              "      <th>Crime_type</th>\n",
              "      <th>count</th>\n",
              "    </tr>\n",
              "  </thead>\n",
              "  <tbody>\n",
              "    <tr>\n",
              "      <th>7</th>\n",
              "      <td>THEFT</td>\n",
              "      <td>397530</td>\n",
              "    </tr>\n",
              "    <tr>\n",
              "      <th>8</th>\n",
              "      <td>BATTERY</td>\n",
              "      <td>206619</td>\n",
              "    </tr>\n",
              "    <tr>\n",
              "      <th>15</th>\n",
              "      <td>CRIMINAL DAMAGE</td>\n",
              "      <td>122345</td>\n",
              "    </tr>\n",
              "    <tr>\n",
              "      <th>5</th>\n",
              "      <td>ASSAULT</td>\n",
              "      <td>79630</td>\n",
              "    </tr>\n",
              "    <tr>\n",
              "      <th>12</th>\n",
              "      <td>DECEPTIVE PRACTICE</td>\n",
              "      <td>77169</td>\n",
              "    </tr>\n",
              "  </tbody>\n",
              "</table>\n",
              "</div>\n",
              "      <button class=\"colab-df-convert\" onclick=\"convertToInteractive('df-26ca724e-7cad-4f9e-a319-a9038dbfc2b1')\"\n",
              "              title=\"Convert this dataframe to an interactive table.\"\n",
              "              style=\"display:none;\">\n",
              "        \n",
              "  <svg xmlns=\"http://www.w3.org/2000/svg\" height=\"24px\"viewBox=\"0 0 24 24\"\n",
              "       width=\"24px\">\n",
              "    <path d=\"M0 0h24v24H0V0z\" fill=\"none\"/>\n",
              "    <path d=\"M18.56 5.44l.94 2.06.94-2.06 2.06-.94-2.06-.94-.94-2.06-.94 2.06-2.06.94zm-11 1L8.5 8.5l.94-2.06 2.06-.94-2.06-.94L8.5 2.5l-.94 2.06-2.06.94zm10 10l.94 2.06.94-2.06 2.06-.94-2.06-.94-.94-2.06-.94 2.06-2.06.94z\"/><path d=\"M17.41 7.96l-1.37-1.37c-.4-.4-.92-.59-1.43-.59-.52 0-1.04.2-1.43.59L10.3 9.45l-7.72 7.72c-.78.78-.78 2.05 0 2.83L4 21.41c.39.39.9.59 1.41.59.51 0 1.02-.2 1.41-.59l7.78-7.78 2.81-2.81c.8-.78.8-2.07 0-2.86zM5.41 20L4 18.59l7.72-7.72 1.47 1.35L5.41 20z\"/>\n",
              "  </svg>\n",
              "      </button>\n",
              "      \n",
              "  <style>\n",
              "    .colab-df-container {\n",
              "      display:flex;\n",
              "      flex-wrap:wrap;\n",
              "      gap: 12px;\n",
              "    }\n",
              "\n",
              "    .colab-df-convert {\n",
              "      background-color: #E8F0FE;\n",
              "      border: none;\n",
              "      border-radius: 50%;\n",
              "      cursor: pointer;\n",
              "      display: none;\n",
              "      fill: #1967D2;\n",
              "      height: 32px;\n",
              "      padding: 0 0 0 0;\n",
              "      width: 32px;\n",
              "    }\n",
              "\n",
              "    .colab-df-convert:hover {\n",
              "      background-color: #E2EBFA;\n",
              "      box-shadow: 0px 1px 2px rgba(60, 64, 67, 0.3), 0px 1px 3px 1px rgba(60, 64, 67, 0.15);\n",
              "      fill: #174EA6;\n",
              "    }\n",
              "\n",
              "    [theme=dark] .colab-df-convert {\n",
              "      background-color: #3B4455;\n",
              "      fill: #D2E3FC;\n",
              "    }\n",
              "\n",
              "    [theme=dark] .colab-df-convert:hover {\n",
              "      background-color: #434B5C;\n",
              "      box-shadow: 0px 1px 3px 1px rgba(0, 0, 0, 0.15);\n",
              "      filter: drop-shadow(0px 1px 2px rgba(0, 0, 0, 0.3));\n",
              "      fill: #FFFFFF;\n",
              "    }\n",
              "  </style>\n",
              "\n",
              "      <script>\n",
              "        const buttonEl =\n",
              "          document.querySelector('#df-26ca724e-7cad-4f9e-a319-a9038dbfc2b1 button.colab-df-convert');\n",
              "        buttonEl.style.display =\n",
              "          google.colab.kernel.accessAllowed ? 'block' : 'none';\n",
              "\n",
              "        async function convertToInteractive(key) {\n",
              "          const element = document.querySelector('#df-26ca724e-7cad-4f9e-a319-a9038dbfc2b1');\n",
              "          const dataTable =\n",
              "            await google.colab.kernel.invokeFunction('convertToInteractive',\n",
              "                                                     [key], {});\n",
              "          if (!dataTable) return;\n",
              "\n",
              "          const docLinkHtml = 'Like what you see? Visit the ' +\n",
              "            '<a target=\"_blank\" href=https://colab.research.google.com/notebooks/data_table.ipynb>data table notebook</a>'\n",
              "            + ' to learn more about interactive tables.';\n",
              "          element.innerHTML = '';\n",
              "          dataTable['output_type'] = 'display_data';\n",
              "          await google.colab.output.renderOutput(dataTable, element);\n",
              "          const docLink = document.createElement('div');\n",
              "          docLink.innerHTML = docLinkHtml;\n",
              "          element.appendChild(docLink);\n",
              "        }\n",
              "      </script>\n",
              "    </div>\n",
              "  </div>\n",
              "  "
            ]
          },
          "metadata": {},
          "execution_count": 90
        }
      ]
    },
    {
      "cell_type": "code",
      "source": [
        "crime_type = crime_type.iloc[:10]\n",
        "\n",
        "myplot = crime_type.plot(figsize = (20,20), kind = \"barh\", color = \"#b35900\", width = 0.8,\n",
        "                               x = \"Crime_type\", y = \"count\", legend = False)\n",
        "\n",
        "myplot.invert_yaxis()\n",
        "\n",
        "plt.xlabel(\"Number of crimes\", fontsize = 28)\n",
        "plt.ylabel(\"Crime Location\", fontsize = 28)\n",
        "plt.title(\"Number of Crimes By Crime Type\", fontsize = 36)\n",
        "plt.xticks(size = 24)\n",
        "plt.yticks(size = 24)\n",
        "plt.show()"
      ],
      "metadata": {
        "colab": {
          "base_uri": "https://localhost:8080/",
          "height": 804
        },
        "id": "ICmAdMQgSARV",
        "outputId": "7600bd61-492b-4938-a261-abc9bd8bc61e"
      },
      "execution_count": 93,
      "outputs": [
        {
          "output_type": "display_data",
          "data": {
            "text/plain": [
              "<Figure size 1440x1440 with 1 Axes>"
            ],
            "image/png": "[encoded data removed]"
          },
          "metadata": {
            "needs_background": "light"
          }
        }
      ]
    }
  ],
  "metadata": {
    "colab": {
      "provenance": []
    },
    "kernelspec": {
      "display_name": "Python 3",
      "name": "python3"
    },
    "language_info": {
      "name": "python"
    }
  },
  "nbformat": 4,
  "nbformat_minor": 0
}